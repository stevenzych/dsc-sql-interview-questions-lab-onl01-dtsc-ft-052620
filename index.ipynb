{
 "cells": [
  {
   "cell_type": "markdown",
   "metadata": {},
   "source": [
    "# SQL Interview Questions - Lab\n",
    "\n",
    "## Introduction\n",
    "\n",
    "In this lab, we'll test our SQL skills against some real-world interview questions from major companies!\n",
    "\n",
    "## Objectives\n",
    "\n",
    "You will be able to:\n",
    "\n",
    "* Write SQL queries to filter and order results\n",
    "* Decide and perform whichever type of join is best for retrieving desired data\n",
    "* Write subqueries to decompose complex queries\n",
    "\n",
    "## Getting Started\n",
    "\n",
    "In this lab, we'll see four different interview questions that test your SQL knowledge. We didn't write these questions -- instead, we found them out in the real-world. These are questions that have been used in the past by major technology companies such as Facebook, Amazon, and Twitter. Our goal here isn't to memorize the questions or anything like that -- after all, it's extremely unlikely that these questions are still in use, now that they've become publicly available on the interwebs. Instead, our goal is to treat these questions as if they are the real thing, and give us some insight into the types of questions we'll need to be able to answer in order pass an interview involving SQL. \n",
    "\n",
    "If these questions seem hard to you, don't sweat it, they're supposed to be tough! These are meant to help you identify any areas of knowledge where you still need to grow! Use these questions as a way to see where your SQL knowledge is strong, and where it's a bit weak. Then, go study and **practice** in the areas where you still need work!\n",
    "\n",
    "### A Note on Answering These Questions\n",
    "\n",
    "Since these are interview questions, they'll almost always be posed as hypotheticals. This means that you won't have a real database to work with and test your code on. This also means that there are multiple different solutions to any given problem listed here. Be sure to doublecheck the code you write for bugs and errors. It's much harder to write bug-free code when you aren't able to test it against a database!\n",
    "\n",
    "If these questions seem hard, that's normal. These are real questions that have been reported to online forums from job seekers at major companies. Obviously, it's unlikely that they're still in use at these companies, but they still represent a great way for us to test our skills against the kinds of questions we can expect to be asked in an interview!\n",
    "\n",
    "## Question 1\n",
    "\n",
    "From Facebook:\n",
    "\n",
    "Assume we have a table of employee information, which includes salary information. Write a query to find the names and salaries of the top 5 highest paid employees, in descending order."
   ]
  },
  {
   "cell_type": "code",
   "execution_count": null,
   "metadata": {},
   "outputs": [],
   "source": [
    "cur.execute(\"\"\"SELECT firstName, lastName, salary\n",
    "               FROM employees\n",
    "               ORDER BY salary DESC\n",
    "               LIMIT 5\"\"\").fetchall()"
   ]
  },
  {
   "cell_type": "markdown",
   "metadata": {},
   "source": [
    "## Question 2\n",
    "\n",
    "From Amazon:\n",
    "\n",
    "Assume we have two SQL tables: `authors` and `books`. The authors table has a few million rows, and looks like this: \n",
    "\n",
    "| author_name | book_name |\n",
    "|:-----------:|:---------:|\n",
    "|   author_1  |   book_1  |\n",
    "|   author_1  |   book_2  |\n",
    "|   author_2  |   book_3  |\n",
    "|   author_2  |   book_4  |\n",
    "|   author_2  |   book_5  |\n",
    "|   author_3  |   book_6  |\n",
    "\n",
    "The books dataset also has a few million rows, and looks like this:\n",
    "\n",
    "| book_name | copies_sold |\n",
    "|:---------:|:-----------:|\n",
    "|   book_1  |    10000    |\n",
    "|   book_2  |     2575    |\n",
    "|   book_3  |    60000    |\n",
    "|   book_4  |    98000    |\n",
    "|   book_5  |     5250    |\n",
    "|   book_6  |    19775    |\n",
    "\n",
    "Write an SQL query that shows the top 3 authors who sold the most total books. "
   ]
  },
  {
   "cell_type": "code",
   "execution_count": 1,
   "metadata": {},
   "outputs": [
    {
     "ename": "NameError",
     "evalue": "name 'cur' is not defined",
     "output_type": "error",
     "traceback": [
      "\u001b[1;31m---------------------------------------------------------------------------\u001b[0m",
      "\u001b[1;31mNameError\u001b[0m                                 Traceback (most recent call last)",
      "\u001b[1;32m<ipython-input-1-be20a93f0e52>\u001b[0m in \u001b[0;36m<module>\u001b[1;34m\u001b[0m\n\u001b[1;32m----> 1\u001b[1;33m cur.execute(\"\"\"SELECT a.author_name, b.book_name, b.copies_sold\n\u001b[0m\u001b[0;32m      2\u001b[0m                \u001b[0mFROM\u001b[0m \u001b[0mauthors\u001b[0m \u001b[0ma\u001b[0m\u001b[1;33m\u001b[0m\u001b[1;33m\u001b[0m\u001b[0m\n\u001b[0;32m      3\u001b[0m                JOIN books b\"\"\")\n",
      "\u001b[1;31mNameError\u001b[0m: name 'cur' is not defined"
     ]
    }
   ],
   "source": [
    "cur.execute(\"\"\"SELECT a.author_name, SUM(copies_sold) AS total_books\n",
    "               FROM authors a\n",
    "               JOIN books b\n",
    "               USING(book_name)\n",
    "               GROUP BY author_name\n",
    "               ORDER BY total_books DESC\n",
    "               LIMIT 3\"\"\").fetchall()"
   ]
  },
  {
   "cell_type": "markdown",
   "metadata": {},
   "source": [
    "## Question 3\n",
    "\n",
    "From Amazon:\n",
    "\n",
    "Assume you have two tables, `customers` and `orders`. Write a SQL query to select all customers who purchased at least 2 items on two separate days. "
   ]
  },
  {
   "cell_type": "code",
   "execution_count": null,
   "metadata": {},
   "outputs": [],
   "source": [
    "cur.execute(\"\"\"SELECT c.name, COUNT(DISTINCT o.orderDate) AS daysOrderedTwoPLus\n",
    "               FROM customers c\n",
    "               JOIN orders o\n",
    "               USING(orderNumber)\n",
    "               WHERE COUNT(o.orderNumber) >= 2 AND COUNT(DISTINCT o.orderDate) >= 2\"\"\")"
   ]
  },
  {
   "cell_type": "markdown",
   "metadata": {},
   "source": [
    "## Question 4\n",
    "\n",
    "From Twitter:\n",
    "\n",
    "A company uses 2 data tables, `Employee` and `Department`, to store data about its employees and departments. \n",
    "\n",
    "Table Name: Employee   \n",
    "Attributes:   \n",
    "ID Integer,   \n",
    "NAME String,   \n",
    "SALARY Integer,   \n",
    "DEPT_ID Integer   \n",
    "\n",
    "Table Name: Department   \n",
    "Attributes:   \n",
    "DEPT_ID Integer,   \n",
    "NAME String,   \n",
    "LOCATION String   \n",
    "\n",
    "Write a query to print the respective Department Name and number of employees for all departments in the Department table (even unstaffed ones). \n",
    "\n",
    "Sort your result in descending order of employees per department; if two or more departments have the same number of employees, then sort those departments alphabetically by Department Name."
   ]
  },
  {
   "cell_type": "code",
   "execution_count": null,
   "metadata": {},
   "outputs": [],
   "source": [
    "cur.execute(\"\"\"SELECT d.name, COUNT(e.Id) AS numEmployees\n",
    "               FROM Employee\n",
    "               JOIN Department\n",
    "               USING(dept_Id)\n",
    "               GROUP BY d.dept_Id\n",
    "               ORDER BY numEmployees DESC, d.name\"\"\").fetchall()"
   ]
  },
  {
   "cell_type": "markdown",
   "metadata": {},
   "source": [
    "## Summary\n",
    "\n",
    "In this lab, we tested our knowledge of SQL queries against some real-world interview questions!"
   ]
  }
 ],
 "metadata": {
  "kernelspec": {
   "display_name": "Python 3",
   "language": "python",
   "name": "python3"
  },
  "language_info": {
   "codemirror_mode": {
    "name": "ipython",
    "version": 3
   },
   "file_extension": ".py",
   "mimetype": "text/x-python",
   "name": "python",
   "nbconvert_exporter": "python",
   "pygments_lexer": "ipython3",
   "version": "3.6.9"
  }
 },
 "nbformat": 4,
 "nbformat_minor": 2
}
